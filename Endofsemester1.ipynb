{
 "cells": [
  {
   "cell_type": "markdown",
   "id": "d2728d70-4ba9-4a02-b93f-aafe3eb93789",
   "metadata": {},
   "source": [
    "## no)5"
   ]
  },
  {
   "cell_type": "code",
   "execution_count": 1,
   "id": "17c05beb-8da7-4b4b-b378-432150094308",
   "metadata": {},
   "outputs": [],
   "source": [
    "import numpy as np"
   ]
  },
  {
   "cell_type": "code",
   "execution_count": 2,
   "id": "24497fe1-7b53-41d2-b2b2-d7df0181d363",
   "metadata": {},
   "outputs": [],
   "source": [
    "Matrix = np.array([[1,0.2,0.5],[0.2,1,0.8],[0.5,0.8,1]])"
   ]
  },
  {
   "cell_type": "code",
   "execution_count": 3,
   "id": "dea0a0a8-7721-4888-888e-bb4448e30007",
   "metadata": {},
   "outputs": [
    {
     "name": "stdout",
     "output_type": "stream",
     "text": [
      "[[1.  0.2 0.5]\n",
      " [0.2 1.  0.8]\n",
      " [0.5 0.8 1. ]]\n"
     ]
    }
   ],
   "source": [
    "print(Matrix)"
   ]
  },
  {
   "cell_type": "code",
   "execution_count": 4,
   "id": "4d60bb5b-affc-49cd-bfba-7731dcc64278",
   "metadata": {},
   "outputs": [],
   "source": [
    "Transpose = np.array(Matrix.T)"
   ]
  },
  {
   "cell_type": "code",
   "execution_count": 5,
   "id": "7a93e87a-3664-4097-82ae-16e6e58d4d36",
   "metadata": {},
   "outputs": [
    {
     "name": "stdout",
     "output_type": "stream",
     "text": [
      "[[1.  0.2 0.5]\n",
      " [0.2 1.  0.8]\n",
      " [0.5 0.8 1. ]]\n"
     ]
    }
   ],
   "source": [
    "print(Transpose)"
   ]
  },
  {
   "cell_type": "code",
   "execution_count": 6,
   "id": "ea77882b-9abe-43b6-bff6-7377daa2217a",
   "metadata": {},
   "outputs": [],
   "source": [
    "Determinant = np.linalg.det(Matrix)"
   ]
  },
  {
   "cell_type": "code",
   "execution_count": 7,
   "id": "81b390fb-b175-431a-a870-397ed360a453",
   "metadata": {},
   "outputs": [
    {
     "name": "stdout",
     "output_type": "stream",
     "text": [
      "0.2299999999999999\n"
     ]
    }
   ],
   "source": [
    "print(Determinant)"
   ]
  },
  {
   "cell_type": "code",
   "execution_count": 8,
   "id": "c2de47c0-fde6-4939-877d-c63e59c364e4",
   "metadata": {},
   "outputs": [],
   "source": [
    "Matrix = np.linalg.eig(Matrix)"
   ]
  },
  {
   "cell_type": "code",
   "execution_count": 9,
   "id": "f35fd2f0-3ac5-40fd-9bb2-d2c44b8fa193",
   "metadata": {},
   "outputs": [
    {
     "name": "stdout",
     "output_type": "stream",
     "text": [
      "EigResult(eigenvalues=array([2.04100779, 0.82188052, 0.13711169]), eigenvectors=array([[-0.43721717, -0.85359707, -0.28321933],\n",
      "       [-0.59931898,  0.51133314, -0.61591816],\n",
      "       [-0.67056536,  0.09955128,  0.73514055]]))\n"
     ]
    }
   ],
   "source": [
    "print(Matrix)"
   ]
  },
  {
   "cell_type": "code",
   "execution_count": null,
   "id": "58d08533-39ad-454a-89f3-6ccecb0bb268",
   "metadata": {},
   "outputs": [],
   "source": []
  },
  {
   "cell_type": "markdown",
   "id": "c91b16da-c593-4c13-8678-a882b7b59e21",
   "metadata": {},
   "source": [
    "## no)6"
   ]
  },
  {
   "cell_type": "code",
   "execution_count": 9,
   "id": "95f390a8-34f6-4702-96f6-b3c2e1b6b025",
   "metadata": {},
   "outputs": [],
   "source": [
    "import numpy as np"
   ]
  },
  {
   "cell_type": "code",
   "execution_count": null,
   "id": "ce2ec1a9-2a41-4c03-b861-5f8ff3e9a037",
   "metadata": {},
   "outputs": [],
   "source": [
    "Poisson_distribution "
   ]
  }
 ],
 "metadata": {
  "kernelspec": {
   "display_name": "Python 3 (ipykernel)",
   "language": "python",
   "name": "python3"
  },
  "language_info": {
   "codemirror_mode": {
    "name": "ipython",
    "version": 3
   },
   "file_extension": ".py",
   "mimetype": "text/x-python",
   "name": "python",
   "nbconvert_exporter": "python",
   "pygments_lexer": "ipython3",
   "version": "3.13.0"
  }
 },
 "nbformat": 4,
 "nbformat_minor": 5
}
